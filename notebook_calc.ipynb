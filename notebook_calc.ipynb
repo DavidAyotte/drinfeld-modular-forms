{
 "cells": [
  {
   "source": [
    "load(\"Code-DrinfeldModularForms.sage\")\n",
    "print()\n",
    "AvailableFunctions()"
   ],
   "cell_type": "code",
   "metadata": {},
   "execution_count": 2,
   "outputs": [
    {
     "output_type": "stream",
     "name": "stdout",
     "text": [
      "\n*********************************************************************************\n**   MAIN AUTHOR: Alex Petrov                                                  **\n**   This file should NOT be distributed without any permission whatsoever.    **\n*********************************************************************************\n\nTo see a list of available functions type 'AvailableFunctions()'\nTo see a descriptions of a specific function 'Fun_Name' \ntype 'Fun_Name?'\n\nTo use the functions defined in this file\nyou should choose any prime power q and run the command:\n\n    sage: Setting(q)\n\nInitial value q = 3\n\nNew function field setting q = 3 \n\nThe following objects have been initiated GLOBALLY:\n--- 'F' a finite field of 'q' elements with generator 'prim_root_mod_q';\n--- 'P' a univariate polynomial ring in 'T' over 'F'; \n--- 'P1' a power series ring in 'u' over 'FractionField(P)'.\n\nSetting\nBr\nD\nL\nrho\nfpol\nPrimesOfDegree\nFstar\nAA\nGossPolynomial\nNormalize\nta\nAexpansion\nhh\ngg\nEe\nGossPolynomialList\nHeckeAction\nListOfPowersOf\nBasisFor_M_k_m\nDimensionOf_M_k_m\nBasisRepresentation\nHeckeMatrix\nFactorWithSingular\nEigenforms\nhdif_sub1\nhdif_sub2\nHdiff\n"
     ]
    }
   ]
  },
  {
   "cell_type": "code",
   "execution_count": 8,
   "metadata": {},
   "outputs": [
    {
     "name": "stdout",
     "output_type": "stream",
     "text": [
      "The following objects have been initiated GLOBALLY:\n",
      "--- 'F' a finite field of 'q' elements with generator 'prim_root_mod_q';\n",
      "--- 'P' a univariate polynomial ring in 'T' over 'F'; \n",
      "--- 'P1' a power series ring in 'u' over 'FractionField(P)'.\n"
     ]
    }
   ],
   "source": [
    "Setting(27)"
   ]
  },
  {
   "cell_type": "code",
   "execution_count": 9,
   "metadata": {},
   "outputs": [],
   "source": [
    "GossPolynomial?"
   ]
  },
  {
   "cell_type": "code",
   "execution_count": 11,
   "metadata": {},
   "outputs": [],
   "source": []
  },
  {
   "cell_type": "code",
   "execution_count": 16,
   "metadata": {},
   "outputs": [
    {
     "output_type": "stream",
     "name": "stdout",
     "text": [
      "finish\n"
     ]
    }
   ],
   "source": [
    "M = ModularForms(1, 12)\n",
    "f = M.basis()[0]\n",
    "f.coefficients(5000);\n",
    "print(\"finish\")"
   ]
  },
  {
   "cell_type": "code",
   "execution_count": null,
   "metadata": {},
   "outputs": [],
   "source": []
  }
 ],
 "metadata": {
  "kernelspec": {
   "display_name": "SageMath 9.0",
   "language": "sage",
   "name": "sagemath"
  },
  "language_info": {
   "codemirror_mode": {
    "name": "ipython",
    "version": 3
   },
   "file_extension": ".py",
   "mimetype": "text/x-python",
   "name": "python",
   "nbconvert_exporter": "python",
   "pygments_lexer": "ipython3",
   "version": "3.8.5"
  }
 },
 "nbformat": 4,
 "nbformat_minor": 4
}